{
 "cells": [
  {
   "cell_type": "markdown",
   "metadata": {},
   "source": [
    "Intro"
   ]
  },
  {
   "cell_type": "code",
   "execution_count": 3,
   "metadata": {},
   "outputs": [
    {
     "name": "stdout",
     "output_type": "stream",
     "text": [
      "hello, nice to meet you.\n",
      "hello, nice to meet you.\n",
      "hello, nice to meet you.\n"
     ]
    }
   ],
   "source": [
    "# madlibs is a game where there are blanks in a paragraph and the user randomly fills them without knowing the paragraph and reads is aloud.\n",
    "# there are 3 ways to concatenate strings:\n",
    "greet = \"hello\"\n",
    "print(greet + \", nice to meet you.\")\n",
    "print(\"{}, nice to meet you.\".format(greet))\n",
    "print(f\"{greet}, nice to meet you.\")"
   ]
  },
  {
   "cell_type": "markdown",
   "metadata": {},
   "source": [
    "Madlib"
   ]
  },
  {
   "cell_type": "code",
   "execution_count": 5,
   "metadata": {},
   "outputs": [
    {
     "name": "stdout",
     "output_type": "stream",
     "text": [
      "Today, my fabulous camp group went to a (an) awesome amusement park. It was a fun park with lots of cool rides and enjoyable play structures.  My counselor handed out yellow tickets, and we scurried in. I was so excited! I couldn't figure out what exciting thing to do first. I saw a scary roller coaster I really liked so, I quickly ran over to get in the long line that had about 20 people in it. When I finally got on the roller coaster I was shaking. In fact I was so nervous my two knees were knocking together. This was the deadliest (-est adjective) ride I had ever been on!\n"
     ]
    }
   ],
   "source": [
    "adj1 = input(\"Adjective\")\n",
    "noun = input(\" Plural Noun\")\n",
    "adv = input(\"Adverb\")\n",
    "num = input(\"Number\")\n",
    "verb = input(\"Past Tense Verb\")\n",
    "adj2 = input(\"-est Adjective\")\n",
    "\n",
    "print(f\"Today, my fabulous camp group went to a (an) {adj1} amusement park. It was a fun park with lots of cool {noun} \\\n",
    "and enjoyable play structures.  My counselor handed out yellow tickets, and we scurried in. I was so excited! I couldn't \\\n",
    "figure out what exciting thing to do first. I saw a scary roller coaster I really liked so, I {adv} ran over to get in the long \\\n",
    "line that had about {num} people in it. When I finally got on the roller coaster I was {verb}. In fact I was so nervous my two knees \\\n",
    "were knocking together. This was the {adj2} (-est adjective) ride I had ever been on!\")"
   ]
  }
 ],
 "metadata": {
  "kernelspec": {
   "display_name": "Python 3.10.6 64-bit",
   "language": "python",
   "name": "python3"
  },
  "language_info": {
   "codemirror_mode": {
    "name": "ipython",
    "version": 3
   },
   "file_extension": ".py",
   "mimetype": "text/x-python",
   "name": "python",
   "nbconvert_exporter": "python",
   "pygments_lexer": "ipython3",
   "version": "3.10.6"
  },
  "orig_nbformat": 4,
  "vscode": {
   "interpreter": {
    "hash": "50086019b946be6b8de9e4507aca4eaed3098a81c34f2e0b613952d5498a431a"
   }
  }
 },
 "nbformat": 4,
 "nbformat_minor": 2
}
